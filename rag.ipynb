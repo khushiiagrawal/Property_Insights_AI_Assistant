{
 "cells": [
  {
   "cell_type": "code",
   "execution_count": 1,
   "id": "64b2af1b",
   "metadata": {},
   "outputs": [
    {
     "data": {
      "application/vnd.jupyter.widget-view+json": {
       "model_id": "89ede7dbe3dd423f8fa094e1d257c010",
       "version_major": 2,
       "version_minor": 0
      },
      "text/plain": [
       "FileUpload(value=(), accept='.csv,.json', description='Upload')"
      ]
     },
     "metadata": {},
     "output_type": "display_data"
    }
   ],
   "source": [
    "import ipywidgets as widgets\n",
    "from IPython.display import display\n",
    "import pandas as pd\n",
    "import os\n",
    "\n",
    "# Create an upload widget\n",
    "uploader = widgets.FileUpload(\n",
    "    accept='.csv,.json',\n",
    "    multiple=False\n",
    ")\n",
    "display(uploader)\n"
   ]
  },
  {
   "cell_type": "code",
   "execution_count": 2,
   "id": "4fb75e31",
   "metadata": {},
   "outputs": [],
   "source": [
    "def process_uploaded_file(uploader):\n",
    "    if len(uploader.value) == 0:\n",
    "        print(\"No file uploaded yet.\")\n",
    "        return None\n",
    "    \n",
    "    # Handle tuple format from ipywidgets\n",
    "    upload_content = uploader.value[0] if isinstance(uploader.value, tuple) else next(iter(uploader.value.values()))\n",
    "    \n",
    "    # Extract filename and content based on the actual structure\n",
    "    if 'metadata' in upload_content:\n",
    "        filename = upload_content['metadata']['name']\n",
    "        content = upload_content['content']\n",
    "    else:\n",
    "        # Alternative structure\n",
    "        filename = upload_content.name\n",
    "        content = upload_content.content\n",
    "\n",
    "    # Save to temporary directory\n",
    "    temp_filepath = f'temp/{filename}'\n",
    "    os.makedirs('temp', exist_ok=True)\n",
    "    with open(temp_filepath, 'wb') as f:\n",
    "        f.write(content)\n",
    "    \n",
    "    # Load with pandas\n",
    "    if filename.endswith('.csv'):\n",
    "        df = pd.read_csv(temp_filepath)\n",
    "    elif filename.endswith('.json'):\n",
    "        df = pd.read_json(temp_filepath)\n",
    "    else:\n",
    "        raise ValueError('Unsupported file format')\n",
    "    return df\n",
    "\n"
   ]
  },
  {
   "cell_type": "markdown",
   "id": "711f7135",
   "metadata": {},
   "source": [
    "### File Upload and Processing\n",
    "\n",
    "1. Use the widget above to upload a `.csv` or `.json` file.\n",
    "2. Then run:\n",
    "\n",
    "```python\n",
    "df = process_uploaded_file(uploader)\n",
    "```\n",
    "\n",
    "- If no file is uploaded yet, you'll see a message and `None` is returned.\n",
    "- Once you have `df` (a pandas DataFrame), continue with your RAG pipeline: chunking, embedding, and vector DB steps.\n"
   ]
  },
  {
   "cell_type": "code",
   "execution_count": 3,
   "id": "c200d8e1",
   "metadata": {},
   "outputs": [
    {
     "name": "stdout",
     "output_type": "stream",
     "text": [
      "✅ RAG system initialized. Ready to index uploaded data.\n",
      "🗑️ Clearing previous data...\n",
      "🗑️ Clearing existing collection...\n",
      "🔄 Recreating collection...\n",
      "✅ Collection cleared. Ready for new data to be indexed.\n",
      "📊 Processing 150 rows from uploaded file...\n",
      "📝 Indexing 150 documents...\n",
      "Sample doc: Date: 2022-10-21, Year: 2022, Locality: Delhi, Estimated Value: 146108.92, Sale Price: 1771709.8, Pr...\n",
      "  Processing batch 1/3 (50 docs)...\n",
      "  Processing batch 2/3 (50 docs)...\n"
     ]
    },
    {
     "name": "stderr",
     "output_type": "stream",
     "text": [
      "/Users/khushiagrawal/Desktop/Property_Insights_AI_Assistant/main.py:148: UserWarning: Batch upload failed 1 times. Retrying...\n",
      "  qdrant.upload_collection(\n",
      "/Users/khushiagrawal/Desktop/Property_Insights_AI_Assistant/main.py:148: UserWarning: Batch upload failed 2 times. Retrying...\n",
      "  qdrant.upload_collection(\n"
     ]
    },
    {
     "name": "stdout",
     "output_type": "stream",
     "text": [
      "  Processing batch 3/3 (50 docs)...\n",
      "✅ Successfully indexed 150 documents!\n",
      "✅ Indexed uploaded DataFrame into Qdrant collection.\n",
      "⏳ Waiting for Qdrant to complete indexing...\n",
      "📈 Total documents in Qdrant: 150\n"
     ]
    }
   ],
   "source": [
    "# Index the uploaded DataFrame into Qdrant\n",
    "from main import build_index_from_df, clear_and_rebuild_collection\n",
    "import time\n",
    "\n",
    "# First, process the uploaded file to create df\n",
    "if 'uploader' in globals() and len(uploader.value) > 0:\n",
    "    df = process_uploaded_file(uploader)\n",
    "    if df is not None:\n",
    "        # Clear old data first\n",
    "        print(\"🗑️ Clearing previous data...\")\n",
    "        clear_and_rebuild_collection()\n",
    "        \n",
    "        # Index new data\n",
    "        print(f\"📊 Processing {len(df)} rows from uploaded file...\")\n",
    "        build_index_from_df(df)\n",
    "        print(\"✅ Indexed uploaded DataFrame into Qdrant collection.\")\n",
    "        \n",
    "        # Wait for Qdrant to finish indexing\n",
    "        print(\"⏳ Waiting for Qdrant to complete indexing...\")\n",
    "        time.sleep(2)  # Wait 2 seconds for indexing to complete\n",
    "        \n",
    "        # Verify the upload\n",
    "        from main import qdrant\n",
    "        import config\n",
    "        collection_info = qdrant.get_collection(config.COLLECTION_NAME)\n",
    "        print(f\"📈 Total documents in Qdrant: {collection_info.points_count}\")\n",
    "    else:\n",
    "        print(\"❌ Failed to process uploaded file.\")\n",
    "else:\n",
    "    print(\"⚠️ No file uploaded yet. Use the upload widget above first.\")\n"
   ]
  },
  {
   "cell_type": "code",
   "execution_count": null,
   "id": "658b92ab",
   "metadata": {},
   "outputs": [],
   "source": [
    "\n"
   ]
  }
 ],
 "metadata": {
  "kernelspec": {
   "display_name": ".venv",
   "language": "python",
   "name": "python3"
  },
  "language_info": {
   "codemirror_mode": {
    "name": "ipython",
    "version": 3
   },
   "file_extension": ".py",
   "mimetype": "text/x-python",
   "name": "python",
   "nbconvert_exporter": "python",
   "pygments_lexer": "ipython3",
   "version": "3.13.2"
  }
 },
 "nbformat": 4,
 "nbformat_minor": 5
}
